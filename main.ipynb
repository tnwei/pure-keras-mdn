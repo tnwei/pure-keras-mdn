{
 "cells": [
  {
   "cell_type": "markdown",
   "metadata": {},
   "source": [
    "# Mixture Density Networks in pure `keras`"
   ]
  },
  {
   "cell_type": "code",
   "execution_count": 2,
   "metadata": {},
   "outputs": [],
   "source": [
    "# Jan 12, 2020 Sun\n",
    "# Tan Nian Wei\n",
    "# tannianwei@aggienetwork.com"
   ]
  },
  {
   "cell_type": "markdown",
   "metadata": {},
   "source": [
    "I have been studying Mixture Density Networks recently, based on fantastic resources from the following in-depth articles:\n",
    "+ http://blog.otoro.net/2015/11/24/mixture-density-networks-with-tensorflow/\n",
    "+ http://cbonnett.github.io/MDN.html\n",
    "+ http://cbonnett.github.io/MDN_EDWARD_KERAS_TF.html\n",
    "+ https://www.katnoria.com/mdn/\n",
    "\n",
    "Given thre great work done by these authors above, we're not going into detail on MDNs here. Just to summarize, MDNs are literally mixture models expressed in neural network form. Instead of outputting point estimates for an expected outcome, MDNs output a probabilistically weighted combination of most likely probability distributions. The estimated values are then sampled from this mixture of distributions. \n",
    "\n",
    "MDN implementations I've seen online thus far rely on `pytorch` or `tensorflow`. I thought it would be interesting to explore implementing MDNs in pure `keras` without requiring `import tensorflow as tf` at some point. And also document my thoughts along the way.\n",
    "\n",
    "Note: If you just want to use MDNs, https://github.com/cpmpercussion/keras-mdn-layer provides an MDN layer for `keras`."
   ]
  },
  {
   "cell_type": "markdown",
   "metadata": {},
   "source": [
    "## Data"
   ]
  },
  {
   "cell_type": "markdown",
   "metadata": {},
   "source": [
    "Generate and visualize data for this demonstration:"
   ]
  },
  {
   "cell_type": "code",
   "execution_count": 3,
   "metadata": {},
   "outputs": [],
   "source": [
    "import numpy as np\n",
    "import matplotlib.pyplot as plt\n",
    "%matplotlib inline"
   ]
  },
  {
   "cell_type": "code",
   "execution_count": 4,
   "metadata": {},
   "outputs": [],
   "source": [
    "# def sample_fun(x):\n",
    "#     return 7 * np.sin(0.75*x) + 0.5*x +\\\n",
    "#     np.random.normal(loc=0, scale=1, size=np.squeeze(x).shape)\n",
    "\n",
    "# ys = np.linspace(-10, 10, num=1000)\n",
    "# xs = np.apply_along_axis(sample_fun, axis=0, arr=xs)\n",
    "\n",
    "# with open('xs.npy', 'wb') as f:\n",
    "#     np.save(f, xs)\n",
    "    \n",
    "# with open('ys.npy', 'wb') as f:\n",
    "#     np.save(f, ys)"
   ]
  },
  {
   "cell_type": "code",
   "execution_count": 5,
   "metadata": {},
   "outputs": [],
   "source": [
    "with open('xs.npy', 'rb') as f:\n",
    "    xs = np.load(f)\n",
    "    \n",
    "with open('ys.npy', 'rb') as f:\n",
    "    ys = np.load(f)    "
   ]
  },
  {
   "cell_type": "markdown",
   "metadata": {},
   "source": [
    "We'll split the data into a training set and a testing set."
   ]
  },
  {
   "cell_type": "code",
   "execution_count": 7,
   "metadata": {},
   "outputs": [],
   "source": [
    "from sklearn.model_selection import train_test_split"
   ]
  },
  {
   "cell_type": "code",
   "execution_count": 8,
   "metadata": {},
   "outputs": [],
   "source": [
    "X_train, X_test, y_train, y_test = train_test_split(xs, ys, test_size=0.7)"
   ]
  },
  {
   "cell_type": "code",
   "execution_count": 10,
   "metadata": {},
   "outputs": [
    {
     "data": {
      "image/png": "[encoded data removed]",
      "text/plain": [
       "<Figure size 432x288 with 1 Axes>"
      ]
     },
     "metadata": {
      "needs_background": "light"
     },
     "output_type": "display_data"
    }
   ],
   "source": [
    "plt.scatter(X_train, y_train, label='train')\n",
    "plt.scatter(X_test, y_test, label='test')\n",
    "plt.legend()\n",
    "plt.show()"
   ]
  },
  {
   "cell_type": "markdown",
   "metadata": {},
   "source": [
    "We will be using `xs` to predict `ys`. Note that they have a one-to-many relationship; most of `xs` maps to more than one value of `ys`. Vanilla machine learning models would be stumped, as this is the equivalent of providing a classifier with mislabelled data. Mixture models however, including MDNs, see every observation as a combination of multiple distributions. At the risk of oversimplifying, they have the wiggle room to store conflicting information in separate learned distributions."
   ]
  },
  {
   "cell_type": "markdown",
   "metadata": {},
   "source": [
    "## Model Architecture"
   ]
  },
  {
   "cell_type": "code",
   "execution_count": 14,
   "metadata": {},
   "outputs": [],
   "source": [
    "from keras.layers import Input, Lambda, Concatenate, Dense\n",
    "from keras.models import Model\n",
    "import keras.backend as K"
   ]
  },
  {
   "cell_type": "markdown",
   "metadata": {},
   "source": [
    "We are using the functional API here as it makes things easier. "
   ]
  },
  {
   "cell_type": "code",
   "execution_count": 15,
   "metadata": {},
   "outputs": [
    {
     "name": "stdout",
     "output_type": "stream",
     "text": [
      "WARNING:tensorflow:From /home/tnwei/miniconda3/envs/ml/lib/python3.7/site-packages/keras/backend/tensorflow_backend.py:4138: The name tf.random_uniform is deprecated. Please use tf.random.uniform instead.\n",
      "\n"
     ]
    }
   ],
   "source": [
    "# This part is the same between MDNs and vanilla neural networks\n",
    "nn_input = Input(shape=(1, ))\n",
    "x = Dense(20, use_bias=True, activation='tanh')(nn_input)"
   ]
  },
  {
   "cell_type": "markdown",
   "metadata": {},
   "source": [
    "For ease of demonstration, we'll only use a single hidden layer. We will code the architecture to use a mixture of `k` = 5 Gaussians. Each Gaussian requires three outputs: mixture probability, and mean + standard deviation to fully describe the distribution.\n",
    "\n",
    "The output of the hidden layer is passed to 3 diverging branches in the MDN, all `Dense` layers. \n",
    "+ `out_pi`: mixture probability, softmax activation\n",
    "+ `out_mu`: distribution mean, linear activation\n",
    "+ `out_sigma`: natural log of distribution standard deviation, linear activation"
   ]
  },
  {
   "cell_type": "code",
   "execution_count": 16,
   "metadata": {},
   "outputs": [],
   "source": [
    "# But here is where it diverges! \n",
    "n_mixtures = 5 # We choose to have 5 mixtures"
   ]
  },
  {
   "cell_type": "code",
   "execution_count": 17,
   "metadata": {},
   "outputs": [],
   "source": [
    "out_pi = Dense(n_mixtures, activation='softmax')(x)\n",
    "out_mu = Dense(n_mixtures, activation='linear')(x)\n",
    "out_sigma = Dense(n_mixtures, activation='linear')(x)\n",
    "out_sigma = Lambda(lambda x:K.exp(x))(out_sigma)"
   ]
  },
  {
   "cell_type": "markdown",
   "metadata": {},
   "source": [
    "Things to note:\n",
    "+ Mixture probability is configured to have softmax activation, as the sum of all mixture probabilities need to sum to one. Using softmax is a simple way to do it, but definitely not the only way.\n",
    "+ log of std dev is used, as std dev is strictly a positive number. This setup guarantees std dev > 0 by adding an exponentiation step after. Again this is probably not the only way to satisfy this constraint."
   ]
  },
  {
   "cell_type": "code",
   "execution_count": 18,
   "metadata": {},
   "outputs": [],
   "source": [
    "# Finishing the network architecture\n",
    "# This layer is needed else keras won't let us run!\n",
    "output = Concatenate()([out_pi, out_mu, out_sigma])\n",
    "\n",
    "mdn = Model(inputs=[nn_input], \n",
    "            outputs=[output])\n",
    "            # outputs=[out_pi, out_mu, out_sigma])"
   ]
  },
  {
   "cell_type": "markdown",
   "metadata": {},
   "source": [
    "We cap off the network with a `Concatenate` layer, so that the shape of the output layer is the same as of the data we will pass to `model.fit()`. If you are using `pytorch` or `tensorflow`, this step is not required since it is possible to implement a loss function using these distribution output layers directly. However, `keras` adheres to a `model.fit(X, y)` paradigm, and has checks in place to ensure the network is properly set up to take `X` and `y`. Thus a bit more work is needed.\n",
    "\n",
    "Speaking of the loss function."
   ]
  },
  {
   "cell_type": "markdown",
   "metadata": {},
   "source": [
    "## Loss function"
   ]
  },
  {
   "cell_type": "markdown",
   "metadata": {},
   "source": [
    "We know our model is well-trained when the likelihood of our distributions on the data is high. People have discovered that taking the log is easier to work with, and is monotonic i.e. gives similar information as the original for gradient descent purposes. Therefore our loss function will be the log-likelihood function.\n",
    "\n",
    "PSA: Likelihood is not the same thing as probability. In very simple terms, we estimate the **probability** of outcomes when the probability distribution is known. When we flip things around and want to estimate our probability distribution given sampled data, we estimate the **likelihood** of our probability distribution when the sampled data is given."
   ]
  },
  {
   "cell_type": "markdown",
   "metadata": {},
   "source": [
    "As part of calculating log-likelihood, we need to implement a function to calculate the probability density function of a Gaussian first. We are not using `scipy.stats.norm` because that's for ONE distribution when we want to be able to calculate pdf's in batch."
   ]
  },
  {
   "cell_type": "code",
   "execution_count": 21,
   "metadata": {},
   "outputs": [],
   "source": [
    "def gaussian_pdf(y, mu, sigma):\n",
    "    # Output should be in the shape of (n_mixtures, )\n",
    "    result = K.square(y - mu) / K.square(sigma) * -0.5\n",
    "    result = K.exp(result) / K.sqrt(2*np.pi*K.square(sigma))\n",
    "    return result"
   ]
  },
  {
   "cell_type": "markdown",
   "metadata": {},
   "source": [
    "We are implementing the loss function in a particular way to pass `keras`'s built-in checks. A valid loss function takes `y_true` and `y_pred` as input, and outputs a score. We don't have a `y_pred` though, and instead need to use values from our `out_pi`, `out_mu` and `out_sigma` layers.\n",
    "\n",
    "To meet the requirements, we define a loss function that takes `y_true` and `y_pred`, but ignores `y_pred`. We could certainly hard-code the variables representing the distribution parameters and mixtures, but Python makes it possible for us to code a generic and re-usable loss function. We define the loss function in a bigger function, of which passes distribution parameters and mixtures as input to the loss function, and returns the loss function. Thus we can map our layers to the loss correctly without having to hard code."
   ]
  },
  {
   "cell_type": "code",
   "execution_count": 22,
   "metadata": {},
   "outputs": [],
   "source": [
    "def mdn_likelihood_loss(pi, mu, sigma):\n",
    "    # Doing this to make out_pi, out_mu, and out_sigma available\n",
    "    def loss(y_true, y_pred):\n",
    "        result = gaussian_pdf(y_true, mu, sigma) * pi\n",
    "        result = K.sum(result, axis=1)\n",
    "        result = - K.log(result + 1e-10) # Prevent NaN\n",
    "        result = K.mean(result, axis=0)\n",
    "        return result\n",
    "    # Returns a function!\n",
    "    return loss"
   ]
  },
  {
   "cell_type": "code",
   "execution_count": 23,
   "metadata": {},
   "outputs": [
    {
     "name": "stdout",
     "output_type": "stream",
     "text": [
      "WARNING:tensorflow:From /home/tnwei/miniconda3/envs/ml/lib/python3.7/site-packages/keras/optimizers.py:790: The name tf.train.Optimizer is deprecated. Please use tf.compat.v1.train.Optimizer instead.\n",
      "\n",
      "WARNING:tensorflow:From /home/tnwei/miniconda3/envs/ml/lib/python3.7/site-packages/keras/backend/tensorflow_backend.py:1521: The name tf.log is deprecated. Please use tf.math.log instead.\n",
      "\n"
     ]
    }
   ],
   "source": [
    "mdn.compile(optimizer='adam', \n",
    "    loss=mdn_likelihood_loss(out_pi, out_mu, out_sigma))"
   ]
  },
  {
   "cell_type": "code",
   "execution_count": 24,
   "metadata": {},
   "outputs": [
    {
     "name": "stdout",
     "output_type": "stream",
     "text": [
      "__________________________________________________________________________________________________\n",
      "Layer (type)                    Output Shape         Param #     Connected to                     \n",
      "==================================================================================================\n",
      "input_2 (InputLayer)            (None, 1)            0                                            \n",
      "__________________________________________________________________________________________________\n",
      "dense_1 (Dense)                 (None, 20)           40          input_2[0][0]                    \n",
      "__________________________________________________________________________________________________\n",
      "dense_4 (Dense)                 (None, 5)            105         dense_1[0][0]                    \n",
      "__________________________________________________________________________________________________\n",
      "dense_2 (Dense)                 (None, 5)            105         dense_1[0][0]                    \n",
      "__________________________________________________________________________________________________\n",
      "dense_3 (Dense)                 (None, 5)            105         dense_1[0][0]                    \n",
      "__________________________________________________________________________________________________\n",
      "lambda_1 (Lambda)               (None, 5)            0           dense_4[0][0]                    \n",
      "__________________________________________________________________________________________________\n",
      "concatenate_1 (Concatenate)     (None, 15)           0           dense_2[0][0]                    \n",
      "                                                                 dense_3[0][0]                    \n",
      "                                                                 lambda_1[0][0]                   \n",
      "==================================================================================================\n",
      "Total params: 355\n",
      "Trainable params: 355\n",
      "Non-trainable params: 0\n",
      "__________________________________________________________________________________________________\n"
     ]
    }
   ],
   "source": [
    "mdn.summary()"
   ]
  },
  {
   "cell_type": "markdown",
   "metadata": {},
   "source": [
    "## Training"
   ]
  },
  {
   "cell_type": "code",
   "execution_count": null,
   "metadata": {},
   "outputs": [],
   "source": []
  }
 ],
 "metadata": {
  "kernelspec": {
   "display_name": "Python [conda env:ml]",
   "language": "python",
   "name": "conda-env-ml-py"
  },
  "language_info": {
   "codemirror_mode": {
    "name": "ipython",
    "version": 3
   },
   "file_extension": ".py",
   "mimetype": "text/x-python",
   "name": "python",
   "nbconvert_exporter": "python",
   "pygments_lexer": "ipython3",
   "version": "3.7.5"
  },
  "widgets": {
   "application/vnd.jupyter.widget-state+json": {
    "state": {},
    "version_major": 2,
    "version_minor": 0
   }
  }
 },
 "nbformat": 4,
 "nbformat_minor": 4
}
